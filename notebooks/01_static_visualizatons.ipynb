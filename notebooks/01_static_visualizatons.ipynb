{
 "cells": [
  {
   "cell_type": "markdown",
   "metadata": {},
   "source": [
    "# Introduction to [Holoviews](https://holoviews.org/)"
   ]
  },
  {
   "cell_type": "code",
   "execution_count": 4,
   "metadata": {},
   "outputs": [
    {
     "ename": "ModuleNotFoundError",
     "evalue": "No module named 'language_competition'",
     "output_type": "error",
     "traceback": [
      "\u001b[0;31m---------------------------------------------------------------------------\u001b[0m",
      "\u001b[0;31mModuleNotFoundError\u001b[0m                       Traceback (most recent call last)",
      "\u001b[0;32m<ipython-input-4-65cfd0617567>\u001b[0m in \u001b[0;36m<module>\u001b[0;34m\u001b[0m\n\u001b[1;32m      2\u001b[0m \u001b[0;32mimport\u001b[0m \u001b[0mholoviews\u001b[0m \u001b[0;32mas\u001b[0m \u001b[0mhv\u001b[0m\u001b[0;34m\u001b[0m\u001b[0;34m\u001b[0m\u001b[0m\n\u001b[1;32m      3\u001b[0m \u001b[0;34m\u001b[0m\u001b[0m\n\u001b[0;32m----> 4\u001b[0;31m \u001b[0;32mfrom\u001b[0m \u001b[0mlanguage_competition\u001b[0m\u001b[0;34m.\u001b[0m\u001b[0mlanguage_competition\u001b[0m\u001b[0;34m.\u001b[0m\u001b[0mmodels\u001b[0m \u001b[0;32mimport\u001b[0m \u001b[0mAbramsStrogatz\u001b[0m\u001b[0;34m,\u001b[0m \u001b[0mSpeakersGrid\u001b[0m\u001b[0;34m\u001b[0m\u001b[0;34m\u001b[0m\u001b[0m\n\u001b[0m\u001b[1;32m      5\u001b[0m \u001b[0;34m\u001b[0m\u001b[0m\n\u001b[1;32m      6\u001b[0m \u001b[0mhv\u001b[0m\u001b[0;34m.\u001b[0m\u001b[0mextension\u001b[0m\u001b[0;34m(\u001b[0m\u001b[0;34m\"bokeh\"\u001b[0m\u001b[0;34m)\u001b[0m\u001b[0;34m\u001b[0m\u001b[0;34m\u001b[0m\u001b[0m\n",
      "\u001b[0;31mModuleNotFoundError\u001b[0m: No module named 'language_competition'"
     ]
    }
   ],
   "source": [
    "import numpy as np\n",
    "import holoviews as hv\n",
    "\n",
    "from language_competition.models import AbramsStrogatz, SpeakersGrid\n",
    "\n",
    "hv.extension(\"bokeh\")"
   ]
  },
  {
   "cell_type": "code",
   "execution_count": null,
   "metadata": {},
   "outputs": [],
   "source": [
    "model = AbramsStrogatz(shape=(10,10))\n",
    "_ = model.run(500, track=True)"
   ]
  },
  {
   "cell_type": "code",
   "execution_count": null,
   "metadata": {},
   "outputs": [],
   "source": [
    "mem = model.memory\n",
    "mem.shape"
   ]
  },
  {
   "cell_type": "markdown",
   "metadata": {},
   "source": [
    "## [Holoviews reference](https://holoviews.org/reference/index.html)"
   ]
  },
  {
   "cell_type": "markdown",
   "metadata": {},
   "source": [
    "### Calculate number of speakers per language over time"
   ]
  },
  {
   "cell_type": "code",
   "execution_count": null,
   "metadata": {},
   "outputs": [],
   "source": [
    "flat = mem.reshape(mem.shape[0], -1)  # reshaping to have dims (epoch, width * height)\n",
    "la = (flat == 1).sum(axis=1)\n",
    "lb = (flat == -1).sum(1)"
   ]
  },
  {
   "cell_type": "code",
   "execution_count": null,
   "metadata": {},
   "outputs": [],
   "source": [
    "la.shape"
   ]
  },
  {
   "cell_type": "markdown",
   "metadata": {},
   "source": [
    "### Plot evolution of Speakers as a curve"
   ]
  },
  {
   "cell_type": "markdown",
   "metadata": {},
   "source": [
    "These are some basic examples of visualizations with Holoviews, check the [getting started](https://holoviews.org/getting_started/Introduction.html) tutorial for a detailed explanation."
   ]
  },
  {
   "cell_type": "code",
   "execution_count": null,
   "metadata": {},
   "outputs": [],
   "source": [
    "curve_lang_b = hv.Curve(lb, label=\"Speakers B\")  # Plot the curve directly from an array\n",
    "curve_lang_b"
   ]
  },
  {
   "cell_type": "markdown",
   "metadata": {},
   "source": [
    "*The various Elements like **Curve**, **Scatter** and **Image** all accept two types of dimensions: key dimensions (i.e., indexing dimensions or independent variables), and value dimensions (resulting data or dependent variables). These attributes are named `kdims` and `vdims`, respectively, and can be passed as the second and third positional argument for all Elements other than Histogram.  The `kdims` and `vdims` accept either single dimensions or lists of dimensions, and let you conveniently express the full space in which your data lives.*"
   ]
  },
  {
   "cell_type": "code",
   "execution_count": null,
   "metadata": {},
   "outputs": [],
   "source": [
    "# You can also define the data as a dictionary\n",
    "curve_data = {\"iteration\": np.arange(len(la)),\n",
    "              \"speakers_a\": la,\n",
    "             }\n",
    "# vdims -> target variable (y) | kdims -> key variable/axis variable (x)\n",
    "curve_lang_a = hv.Curve(curve_data, label=\"Speakers A\", kdims=[\"iteration\"], vdims=\"speakers_a\")\n",
    "\n",
    "curve_lang_a.opts(width=600, title=\"Evolution of speakers\")"
   ]
  },
  {
   "cell_type": "markdown",
   "metadata": {},
   "source": [
    "## [Combining plots](https://holoviews.org/user_guide/Composing_Elements.html#composing-elements)"
   ]
  },
  {
   "cell_type": "markdown",
   "metadata": {},
   "source": [
    "#### `Layout` -> Sum operator for combining Elements in different subplots"
   ]
  },
  {
   "cell_type": "code",
   "execution_count": null,
   "metadata": {},
   "outputs": [],
   "source": [
    "sum_plot = curve_lang_a + curve_lang_b\n",
    "sum_plot"
   ]
  },
  {
   "cell_type": "markdown",
   "metadata": {},
   "source": [
    "#### `Overlay` -> Product for overlying different elements in the same plot"
   ]
  },
  {
   "cell_type": "code",
   "execution_count": null,
   "metadata": {},
   "outputs": [],
   "source": [
    "curves_speakers = (curve_lang_a * curve_lang_b.opts(color=\"red\", line_width=2, alpha=0.9))\n",
    "curves_speakers.opts(width=600)"
   ]
  },
  {
   "cell_type": "code",
   "execution_count": null,
   "metadata": {},
   "outputs": [],
   "source": [
    "hist_a = hv.Histogram(np.histogram(la), label=\"Speakers A\")\n",
    "hist_b = hv.Histogram(np.histogram(lb), label=\"Speakers B\")\n",
    "hist_speakers = hist_a * hist_b\n",
    "hist_speakers.opts(hv.opts.Histogram(show_legend=True, alpha=0.8))"
   ]
  },
  {
   "cell_type": "markdown",
   "metadata": {},
   "source": [
    "#### You can also combine multiple overlays and subplots"
   ]
  },
  {
   "cell_type": "code",
   "execution_count": null,
   "metadata": {},
   "outputs": [],
   "source": [
    "combined = curves_speakers + hist_speakers\n",
    "combined"
   ]
  },
  {
   "cell_type": "markdown",
   "metadata": {},
   "source": [
    "## [Customizing plots](https://holoviews.org/getting_started/Customization.html#customization)"
   ]
  },
  {
   "cell_type": "code",
   "execution_count": null,
   "metadata": {},
   "outputs": [],
   "source": [
    "overlay_opts = hv.opts.Overlay(legend_position=\"top\",  width=400, height=300)\n",
    "curve_opts = hv.opts.Curve(tools=[\"hover\"], xlabel=\"Iteration\", width=400, height=300)"
   ]
  },
  {
   "cell_type": "code",
   "execution_count": null,
   "metadata": {},
   "outputs": [],
   "source": [
    "combined.opts(curve_opts, overlay_opts)"
   ]
  },
  {
   "cell_type": "code",
   "execution_count": null,
   "metadata": {},
   "outputs": [],
   "source": [
    "combined"
   ]
  },
  {
   "cell_type": "code",
   "execution_count": null,
   "metadata": {},
   "outputs": [],
   "source": [
    "combined.opts.info()"
   ]
  },
  {
   "cell_type": "markdown",
   "metadata": {},
   "source": [
    "### Method .opts "
   ]
  },
  {
   "cell_type": "code",
   "execution_count": 5,
   "metadata": {},
   "outputs": [
    {
     "ename": "NameError",
     "evalue": "name 'abst' is not defined",
     "output_type": "error",
     "traceback": [
      "\u001b[0;31m---------------------------------------------------------------------------\u001b[0m",
      "\u001b[0;31mNameError\u001b[0m                                 Traceback (most recent call last)",
      "\u001b[0;32m<ipython-input-5-542479f0b640>\u001b[0m in \u001b[0;36m<module>\u001b[0;34m\u001b[0m\n\u001b[0;32m----> 1\u001b[0;31m \u001b[0mgrid\u001b[0m \u001b[0;34m=\u001b[0m \u001b[0mabst\u001b[0m\u001b[0;34m.\u001b[0m\u001b[0mmemory\u001b[0m\u001b[0;34m[\u001b[0m\u001b[0;36m0\u001b[0m\u001b[0;34m]\u001b[0m   \u001b[0;31m# Store the initial grid\u001b[0m\u001b[0;34m\u001b[0m\u001b[0;34m\u001b[0m\u001b[0m\n\u001b[0m",
      "\u001b[0;31mNameError\u001b[0m: name 'abst' is not defined"
     ]
    }
   ],
   "source": [
    "data = abst.memory[0]   # Store the initial grid"
   ]
  },
  {
   "cell_type": "markdown",
   "metadata": {},
   "source": [
    "#### parameter definition and graphical representation"
   ]
  },
  {
   "cell_type": "code",
   "execution_count": null,
   "metadata": {},
   "outputs": [],
   "source": [
    "color = ['red','blue']\n",
    "\n",
    "grid = {'xdata': np.arange(1, data.shape[0] + 1),\n",
    "        'ydata': np.arange(1, data.shape[1] + 1), \n",
    "        'zdata': data}\n",
    "plot = hv.Image(grid, kdims=['xdata', 'ydata'], vdims=hv.Dimension('zdata', range=(-1, 1)))\n",
    "\n",
    "\n",
    "plot = plot.opts(invert_yaxis=True, cmap=color, colorbar=True , width=350, colorbar_opts={\n",
    "        'title': 'Languages' , \n",
    "        'title_text_align': 'left',\n",
    "        'major_label_overrides': {-1: \"\", -0.5: 'B', 0: \"\", 0.5: 'A', 1: \"\"  },\n",
    "        'major_label_text_align': 'right'}\n",
    "    )"
   ]
  },
  {
   "cell_type": "markdown",
   "metadata": {},
   "source": [
    "## TODO: \n",
    "\n",
    "- Add grid plot example using hv.Image\n",
    "- Explain that opts can be passed as keyword arguments\n",
    "- Explain how `hv.opts.Element` works\n",
    "- Best practice is delaying opts as much as possible"
   ]
  },
  {
   "cell_type": "code",
   "execution_count": null,
   "metadata": {},
   "outputs": [],
   "source": []
  }
 ],
 "metadata": {
  "kernelspec": {
   "display_name": "Python 3",
   "language": "python",
   "name": "python3"
  },
  "language_info": {
   "codemirror_mode": {
    "name": "ipython",
    "version": 3
   },
   "file_extension": ".py",
   "mimetype": "text/x-python",
   "name": "python",
   "nbconvert_exporter": "python",
   "pygments_lexer": "ipython3",
   "version": "3.8.5"
  }
 },
 "nbformat": 4,
 "nbformat_minor": 4
}
